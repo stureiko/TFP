{
 "cells": [
  {
   "cell_type": "code",
   "execution_count": 1,
   "id": "d17c4d65",
   "metadata": {
    "scrolled": true
   },
   "outputs": [],
   "source": [
    "# pip install python-docx"
   ]
  },
  {
   "cell_type": "code",
   "execution_count": 2,
   "id": "3c37edad",
   "metadata": {},
   "outputs": [],
   "source": [
    "import pandas as pd\n",
    "import os\n",
    "import docx"
   ]
  },
  {
   "cell_type": "code",
   "execution_count": 59,
   "id": "8986545b",
   "metadata": {
    "scrolled": true
   },
   "outputs": [
    {
     "data": {
      "text/plain": [
       "'Справочные данные'"
      ]
     },
     "execution_count": 59,
     "metadata": {},
     "output_type": "execute_result"
    }
   ],
   "source": [
    "file_name = '../РТП/2019/Согласование/38    02  КС Пуровская - КС Правохеттинская.docx'\n",
    "\n",
    "\n",
    "doc = docx.Document(file_name)\n",
    "\n",
    "all_paras = doc.paragraphs\n",
    "\n",
    "all_paras[1].text"
   ]
  },
  {
   "cell_type": "code",
   "execution_count": 65,
   "id": "efea18a4",
   "metadata": {},
   "outputs": [
    {
     "data": {
      "text/plain": [
       "'Участок КС Пуровская – КС Правохеттинская, наряду с участком КС Ямбургская – КС Правохеттинская, является начальным участком СМГ «Новый коридор». Он берет начало от межпромысловых коллекторов Уренгойского газоконденсатного месторождения. С апреля 2012 г. на вход КЦ №2,3 КС Пуровская осуществляется подача газа от Самбургского месторождения. Участок состоит из трехниточной системы газопроводов и проходит по территории Ямало-Ненецкого автономного округа Тюменской области. Обслуживается ООО «Газпром трансгаз Югорск».'"
      ]
     },
     "execution_count": 65,
     "metadata": {},
     "output_type": "execute_result"
    }
   ],
   "source": [
    "all_paras[3].text"
   ]
  },
  {
   "cell_type": "code",
   "execution_count": 19,
   "id": "279827f2",
   "metadata": {},
   "outputs": [
    {
     "data": {
      "text/plain": [
       "'Ввод МГ осуществлялся в следующие сроки:'"
      ]
     },
     "execution_count": 19,
     "metadata": {},
     "output_type": "execute_result"
    }
   ],
   "source": [
    "all_paras[5].text"
   ]
  },
  {
   "cell_type": "code",
   "execution_count": 52,
   "id": "b95b8d0c",
   "metadata": {},
   "outputs": [
    {
     "data": {
      "text/plain": [
       "'Проектные данные'"
      ]
     },
     "execution_count": 52,
     "metadata": {},
     "output_type": "execute_result"
    }
   ],
   "source": [
    "all_paras[15].text"
   ]
  },
  {
   "cell_type": "code",
   "execution_count": 38,
   "id": "097ba4cd",
   "metadata": {},
   "outputs": [
    {
     "data": {
      "text/plain": [
       "'Наименование КС'"
      ]
     },
     "execution_count": 38,
     "metadata": {},
     "output_type": "execute_result"
    }
   ],
   "source": [
    "doc.tables[0].table.cell(0, 0).text"
   ]
  },
  {
   "cell_type": "code",
   "execution_count": null,
   "id": "ffe34154",
   "metadata": {},
   "outputs": [],
   "source": []
  },
  {
   "cell_type": "code",
   "execution_count": 78,
   "id": "ed5ca970",
   "metadata": {},
   "outputs": [
    {
     "name": "stdout",
     "output_type": "stream",
     "text": [
      "../РТП/2019/Согласование/38    02  КС Пуровская - КС Правохеттинская.docx\n",
      "../РТП/2019/Согласование/159  84  Бованенково - Ухта.docx\n"
     ]
    }
   ],
   "source": [
    "rtp_path = \"../РТП/2019/Согласование/\"\n",
    "mydoc = docx.Document()\n",
    "for file_name in os.listdir(path=rtp_path):\n",
    "    if (file_name.endswith(\".docx\") & \n",
    "        file_name.startswith(\"38\") | file_name.startswith('159')):\n",
    "        \n",
    "        print(rtp_path+file_name)\n",
    "        \n",
    "        doc = docx.Document(rtp_path+file_name)\n",
    "        mydoc.add_heading(doc.paragraphs[0].text, level=0);\n",
    "        mydoc.add_heading(doc.paragraphs[1].text, level=2);\n",
    "        mydoc.add_paragraph(doc.paragraphs[3].text)\n",
    "        \n",
    "    \n",
    "mydoc.save(\"./my_written_file.docx\")\n"
   ]
  },
  {
   "cell_type": "code",
   "execution_count": null,
   "id": "e4ca9dcb",
   "metadata": {},
   "outputs": [],
   "source": []
  }
 ],
 "metadata": {
  "kernelspec": {
   "display_name": "Python 3",
   "language": "python",
   "name": "python3"
  },
  "language_info": {
   "codemirror_mode": {
    "name": "ipython",
    "version": 3
   },
   "file_extension": ".py",
   "mimetype": "text/x-python",
   "name": "python",
   "nbconvert_exporter": "python",
   "pygments_lexer": "ipython3",
   "version": "3.8.8"
  }
 },
 "nbformat": 4,
 "nbformat_minor": 5
}
