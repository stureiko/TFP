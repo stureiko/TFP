{
 "cells": [
  {
   "cell_type": "code",
   "execution_count": 1,
   "metadata": {},
   "outputs": [],
   "source": [
    "import numpy as np\n",
    "import pandas as pd"
   ]
  },
  {
   "cell_type": "code",
   "execution_count": 2,
   "metadata": {},
   "outputs": [
    {
     "data": {
      "text/html": [
       "<div>\n",
       "<style scoped>\n",
       "    .dataframe tbody tr th:only-of-type {\n",
       "        vertical-align: middle;\n",
       "    }\n",
       "\n",
       "    .dataframe tbody tr th {\n",
       "        vertical-align: top;\n",
       "    }\n",
       "\n",
       "    .dataframe thead th {\n",
       "        text-align: right;\n",
       "    }\n",
       "</style>\n",
       "<table border=\"1\" class=\"dataframe\">\n",
       "  <thead>\n",
       "    <tr style=\"text-align: right;\">\n",
       "      <th></th>\n",
       "      <th>Unnamed: 0</th>\n",
       "      <th>Line_name</th>\n",
       "      <th>Line_ID</th>\n",
       "      <th>Age</th>\n",
       "      <th>Project_TFP</th>\n",
       "      <th>lines_counts</th>\n",
       "      <th>Year</th>\n",
       "      <th>TFP</th>\n",
       "      <th>Cur_flow</th>\n",
       "      <th>Days_repairs</th>\n",
       "      <th>Cur_age</th>\n",
       "      <th>1_year_repairs</th>\n",
       "      <th>2_year_repairs</th>\n",
       "      <th>1_year_flow</th>\n",
       "      <th>2_year_flow</th>\n",
       "      <th>Repairs_per_line</th>\n",
       "    </tr>\n",
       "  </thead>\n",
       "  <tbody>\n",
       "    <tr>\n",
       "      <th>0</th>\n",
       "      <td>0</td>\n",
       "      <td>КС Ямбургская – КС Правохеттинская</td>\n",
       "      <td>1</td>\n",
       "      <td>1989.58</td>\n",
       "      <td>227.0</td>\n",
       "      <td>12</td>\n",
       "      <td>2012</td>\n",
       "      <td>173.0</td>\n",
       "      <td>NaN</td>\n",
       "      <td>NaN</td>\n",
       "      <td>22.42</td>\n",
       "      <td>NaN</td>\n",
       "      <td>NaN</td>\n",
       "      <td>NaN</td>\n",
       "      <td>NaN</td>\n",
       "      <td>NaN</td>\n",
       "    </tr>\n",
       "    <tr>\n",
       "      <th>1</th>\n",
       "      <td>1</td>\n",
       "      <td>КС Ямбургская – КС Правохеттинская</td>\n",
       "      <td>1</td>\n",
       "      <td>1989.58</td>\n",
       "      <td>227.0</td>\n",
       "      <td>12</td>\n",
       "      <td>2013</td>\n",
       "      <td>178.0</td>\n",
       "      <td>155.1</td>\n",
       "      <td>NaN</td>\n",
       "      <td>23.42</td>\n",
       "      <td>NaN</td>\n",
       "      <td>NaN</td>\n",
       "      <td>NaN</td>\n",
       "      <td>NaN</td>\n",
       "      <td>NaN</td>\n",
       "    </tr>\n",
       "  </tbody>\n",
       "</table>\n",
       "</div>"
      ],
      "text/plain": [
       "   Unnamed: 0                           Line_name  Line_ID      Age  \\\n",
       "0           0  КС Ямбургская – КС Правохеттинская        1  1989.58   \n",
       "1           1  КС Ямбургская – КС Правохеттинская        1  1989.58   \n",
       "\n",
       "   Project_TFP  lines_counts  Year    TFP  Cur_flow  Days_repairs  Cur_age  \\\n",
       "0        227.0            12  2012  173.0       NaN           NaN    22.42   \n",
       "1        227.0            12  2013  178.0     155.1           NaN    23.42   \n",
       "\n",
       "   1_year_repairs  2_year_repairs  1_year_flow  2_year_flow  Repairs_per_line  \n",
       "0             NaN             NaN          NaN          NaN               NaN  \n",
       "1             NaN             NaN          NaN          NaN               NaN  "
      ]
     },
     "execution_count": 2,
     "metadata": {},
     "output_type": "execute_result"
    }
   ],
   "source": [
    "df = pd.read_csv('./TFP.csv')\n",
    "df.head(2)"
   ]
  },
  {
   "cell_type": "code",
   "execution_count": 3,
   "metadata": {},
   "outputs": [
    {
     "data": {
      "text/plain": [
       "(28, 16)"
      ]
     },
     "execution_count": 3,
     "metadata": {},
     "output_type": "execute_result"
    }
   ],
   "source": [
    "df.shape"
   ]
  },
  {
   "cell_type": "code",
   "execution_count": 4,
   "metadata": {},
   "outputs": [
    {
     "name": "stdout",
     "output_type": "stream",
     "text": [
      "<class 'pandas.core.frame.DataFrame'>\n",
      "RangeIndex: 28 entries, 0 to 27\n",
      "Data columns (total 16 columns):\n",
      " #   Column            Non-Null Count  Dtype  \n",
      "---  ------            --------------  -----  \n",
      " 0   Unnamed: 0        28 non-null     int64  \n",
      " 1   Line_name         28 non-null     object \n",
      " 2   Line_ID           28 non-null     int64  \n",
      " 3   Age               28 non-null     float64\n",
      " 4   Project_TFP       28 non-null     float64\n",
      " 5   lines_counts      28 non-null     int64  \n",
      " 6   Year              28 non-null     int64  \n",
      " 7   TFP               28 non-null     float64\n",
      " 8   Cur_flow          24 non-null     float64\n",
      " 9   Days_repairs      16 non-null     float64\n",
      " 10  Cur_age           28 non-null     float64\n",
      " 11  1_year_repairs    12 non-null     float64\n",
      " 12  2_year_repairs    8 non-null      float64\n",
      " 13  1_year_flow       20 non-null     float64\n",
      " 14  2_year_flow       16 non-null     float64\n",
      " 15  Repairs_per_line  16 non-null     float64\n",
      "dtypes: float64(11), int64(4), object(1)\n",
      "memory usage: 3.6+ KB\n"
     ]
    }
   ],
   "source": [
    "df.info()"
   ]
  },
  {
   "cell_type": "code",
   "execution_count": 5,
   "metadata": {},
   "outputs": [
    {
     "data": {
      "text/plain": [
       "array([2012, 2013, 2014, 2015, 2016, 2017, 2018])"
      ]
     },
     "execution_count": 5,
     "metadata": {},
     "output_type": "execute_result"
    }
   ],
   "source": [
    "df['Year'].unique()"
   ]
  },
  {
   "cell_type": "code",
   "execution_count": 6,
   "metadata": {},
   "outputs": [
    {
     "data": {
      "text/html": [
       "<div>\n",
       "<style scoped>\n",
       "    .dataframe tbody tr th:only-of-type {\n",
       "        vertical-align: middle;\n",
       "    }\n",
       "\n",
       "    .dataframe tbody tr th {\n",
       "        vertical-align: top;\n",
       "    }\n",
       "\n",
       "    .dataframe thead th {\n",
       "        text-align: right;\n",
       "    }\n",
       "</style>\n",
       "<table border=\"1\" class=\"dataframe\">\n",
       "  <thead>\n",
       "    <tr style=\"text-align: right;\">\n",
       "      <th></th>\n",
       "      <th>Line_ID</th>\n",
       "      <th>TFP</th>\n",
       "    </tr>\n",
       "  </thead>\n",
       "  <tbody>\n",
       "    <tr>\n",
       "      <th>0</th>\n",
       "      <td>1</td>\n",
       "      <td>173.0</td>\n",
       "    </tr>\n",
       "    <tr>\n",
       "      <th>7</th>\n",
       "      <td>2</td>\n",
       "      <td>90.8</td>\n",
       "    </tr>\n",
       "    <tr>\n",
       "      <th>14</th>\n",
       "      <td>3</td>\n",
       "      <td>354.0</td>\n",
       "    </tr>\n",
       "    <tr>\n",
       "      <th>21</th>\n",
       "      <td>4</td>\n",
       "      <td>324.2</td>\n",
       "    </tr>\n",
       "  </tbody>\n",
       "</table>\n",
       "</div>"
      ],
      "text/plain": [
       "    Line_ID    TFP\n",
       "0         1  173.0\n",
       "7         2   90.8\n",
       "14        3  354.0\n",
       "21        4  324.2"
      ]
     },
     "execution_count": 6,
     "metadata": {},
     "output_type": "execute_result"
    }
   ],
   "source": [
    "df.loc[df['Year'].isin([2012]),['Line_ID', 'TFP']]"
   ]
  },
  {
   "cell_type": "code",
   "execution_count": 7,
   "metadata": {},
   "outputs": [],
   "source": [
    "def out_df(dataf: pd.DataFrame):\n",
    "    sum_val=pd.merge(dataf.loc[dataf['Year'].isin([2012]),['Line_ID','Line_name', 'TFP']], dataf.loc[dataf['Year'].isin([2013]),['Line_ID', 'TFP']],on='Line_ID',how='inner')\n",
    "    sum_val.rename(columns={'TFP_x': '2012', 'TFP_y': '2013'}, inplace=True)\n",
    "    for i in dataf['Year'].unique()[2:]:\n",
    "        sum_val=pd.merge(sum_val, dataf.loc[df['Year'] == i,['Line_ID', 'TFP']],on='Line_ID',how='inner')\n",
    "        sum_val.rename(columns={'TFP': str(i)}, inplace=True)\n",
    "    return sum_val"
   ]
  },
  {
   "cell_type": "code",
   "execution_count": 8,
   "metadata": {},
   "outputs": [
    {
     "data": {
      "text/html": [
       "<div>\n",
       "<style scoped>\n",
       "    .dataframe tbody tr th:only-of-type {\n",
       "        vertical-align: middle;\n",
       "    }\n",
       "\n",
       "    .dataframe tbody tr th {\n",
       "        vertical-align: top;\n",
       "    }\n",
       "\n",
       "    .dataframe thead th {\n",
       "        text-align: right;\n",
       "    }\n",
       "</style>\n",
       "<table border=\"1\" class=\"dataframe\">\n",
       "  <thead>\n",
       "    <tr style=\"text-align: right;\">\n",
       "      <th></th>\n",
       "      <th>Line_ID</th>\n",
       "      <th>Line_name</th>\n",
       "      <th>2012</th>\n",
       "      <th>2013</th>\n",
       "      <th>2014</th>\n",
       "      <th>2015</th>\n",
       "      <th>2016</th>\n",
       "      <th>2017</th>\n",
       "      <th>2018</th>\n",
       "    </tr>\n",
       "  </thead>\n",
       "  <tbody>\n",
       "    <tr>\n",
       "      <th>0</th>\n",
       "      <td>1</td>\n",
       "      <td>КС Ямбургская – КС Правохеттинская</td>\n",
       "      <td>173.0</td>\n",
       "      <td>178.0</td>\n",
       "      <td>171.7</td>\n",
       "      <td>170.7</td>\n",
       "      <td>169.9</td>\n",
       "      <td>166.3</td>\n",
       "      <td>168.3</td>\n",
       "    </tr>\n",
       "    <tr>\n",
       "      <th>1</th>\n",
       "      <td>2</td>\n",
       "      <td>КС Пуровская – КС Правохеттинская</td>\n",
       "      <td>90.8</td>\n",
       "      <td>88.9</td>\n",
       "      <td>91.6</td>\n",
       "      <td>85.3</td>\n",
       "      <td>87.2</td>\n",
       "      <td>84.5</td>\n",
       "      <td>86.4</td>\n",
       "    </tr>\n",
       "    <tr>\n",
       "      <th>2</th>\n",
       "      <td>3</td>\n",
       "      <td>КС Правохеттинская – КС Сосновская</td>\n",
       "      <td>354.0</td>\n",
       "      <td>353.7</td>\n",
       "      <td>354.6</td>\n",
       "      <td>354.5</td>\n",
       "      <td>339.2</td>\n",
       "      <td>340.1</td>\n",
       "      <td>351.2</td>\n",
       "    </tr>\n",
       "    <tr>\n",
       "      <th>3</th>\n",
       "      <td>4</td>\n",
       "      <td>КС Сосновская – КС Таежная</td>\n",
       "      <td>324.2</td>\n",
       "      <td>329.9</td>\n",
       "      <td>330.8</td>\n",
       "      <td>335.4</td>\n",
       "      <td>329.6</td>\n",
       "      <td>329.0</td>\n",
       "      <td>319.6</td>\n",
       "    </tr>\n",
       "  </tbody>\n",
       "</table>\n",
       "</div>"
      ],
      "text/plain": [
       "   Line_ID                           Line_name   2012   2013   2014   2015  \\\n",
       "0        1  КС Ямбургская – КС Правохеттинская  173.0  178.0  171.7  170.7   \n",
       "1        2   КС Пуровская – КС Правохеттинская   90.8   88.9   91.6   85.3   \n",
       "2        3  КС Правохеттинская – КС Сосновская  354.0  353.7  354.6  354.5   \n",
       "3        4          КС Сосновская – КС Таежная  324.2  329.9  330.8  335.4   \n",
       "\n",
       "    2016   2017   2018  \n",
       "0  169.9  166.3  168.3  \n",
       "1   87.2   84.5   86.4  \n",
       "2  339.2  340.1  351.2  \n",
       "3  329.6  329.0  319.6  "
      ]
     },
     "execution_count": 8,
     "metadata": {},
     "output_type": "execute_result"
    }
   ],
   "source": [
    "sum_v = out_df(df)\n",
    "sum_v"
   ]
  },
  {
   "cell_type": "code",
   "execution_count": 13,
   "metadata": {},
   "outputs": [],
   "source": [
    "sum_v.to_csv ('export_TVP.csv', encoding = 'utf-8', index=False)"
   ]
  },
  {
   "cell_type": "code",
   "execution_count": 12,
   "metadata": {},
   "outputs": [],
   "source": [
    "sum_v.to_csv('../TeX/TVP.csv', encoding = 'utf-8', index=False, header=False, sep='|')"
   ]
  },
  {
   "cell_type": "code",
   "execution_count": 18,
   "metadata": {},
   "outputs": [
    {
     "data": {
      "text/html": [
       "<div>\n",
       "<style scoped>\n",
       "    .dataframe tbody tr th:only-of-type {\n",
       "        vertical-align: middle;\n",
       "    }\n",
       "\n",
       "    .dataframe tbody tr th {\n",
       "        vertical-align: top;\n",
       "    }\n",
       "\n",
       "    .dataframe thead th {\n",
       "        text-align: right;\n",
       "    }\n",
       "</style>\n",
       "<table border=\"1\" class=\"dataframe\">\n",
       "  <thead>\n",
       "    <tr style=\"text-align: right;\">\n",
       "      <th></th>\n",
       "      <th>Line_name</th>\n",
       "      <th>2012</th>\n",
       "    </tr>\n",
       "  </thead>\n",
       "  <tbody>\n",
       "    <tr>\n",
       "      <th>0</th>\n",
       "      <td>КС Ямбургская – КС Правохеттинская</td>\n",
       "      <td>173.0</td>\n",
       "    </tr>\n",
       "    <tr>\n",
       "      <th>1</th>\n",
       "      <td>КС Пуровская – КС Правохеттинская</td>\n",
       "      <td>90.8</td>\n",
       "    </tr>\n",
       "    <tr>\n",
       "      <th>2</th>\n",
       "      <td>КС Правохеттинская – КС Сосновская</td>\n",
       "      <td>354.0</td>\n",
       "    </tr>\n",
       "    <tr>\n",
       "      <th>3</th>\n",
       "      <td>КС Сосновская – КС Таежная</td>\n",
       "      <td>324.2</td>\n",
       "    </tr>\n",
       "  </tbody>\n",
       "</table>\n",
       "</div>"
      ],
      "text/plain": [
       "                            Line_name   2012\n",
       "0  КС Ямбургская – КС Правохеттинская  173.0\n",
       "1   КС Пуровская – КС Правохеттинская   90.8\n",
       "2  КС Правохеттинская – КС Сосновская  354.0\n",
       "3          КС Сосновская – КС Таежная  324.2"
      ]
     },
     "execution_count": 18,
     "metadata": {},
     "output_type": "execute_result"
    }
   ],
   "source": [
    "sum_v[['Line_name', '2012']].head()"
   ]
  },
  {
   "cell_type": "code",
   "execution_count": null,
   "metadata": {},
   "outputs": [],
   "source": []
  }
 ],
 "metadata": {
  "kernelspec": {
   "display_name": "Python 3",
   "language": "python",
   "name": "python3"
  },
  "language_info": {
   "codemirror_mode": {
    "name": "ipython",
    "version": 3
   },
   "file_extension": ".py",
   "mimetype": "text/x-python",
   "name": "python",
   "nbconvert_exporter": "python",
   "pygments_lexer": "ipython3",
   "version": "3.7.7"
  }
 },
 "nbformat": 4,
 "nbformat_minor": 4
}
