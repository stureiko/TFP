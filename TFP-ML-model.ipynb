{
 "cells": [
  {
   "cell_type": "markdown",
   "metadata": {},
   "source": [
    "# Модель ТВП участков ГТС"
   ]
  },
  {
   "cell_type": "markdown",
   "metadata": {},
   "source": [
    "### Импорт библиотек"
   ]
  },
  {
   "cell_type": "code",
   "execution_count": 8,
   "metadata": {},
   "outputs": [],
   "source": [
    "import numpy as np\n",
    "import pandas as pd\n",
    "import datetime\n",
    "\n",
    "from matplotlib import pyplot as plt\n",
    "import seaborn as sns"
   ]
  },
  {
   "cell_type": "markdown",
   "metadata": {},
   "source": [
    " ## поля датасета"
   ]
  },
  {
   "cell_type": "markdown",
   "metadata": {},
   "source": [
    "- 'LineName' - имя участка,\n",
    "- 'LineID' - номер участка в РТП,\n",
    "- 'TFP' - технически возможная производительность млрд.м3/год, \n",
    "- 'Year' - год для которого внесены значения\n",
    "- 'Age' - возраст участка, \n",
    "- 'Project_TFP' - проектная производительность,\n",
    "- 'Days_repairs' - продолжительность ремонтных работ на участке в этом году,\n",
    "- '1_year_repairs' - продолжительность ремонтных работ на этом участке годом ранее, _**вычислить**_\n",
    "- '2_year_repairs' - продолжительность ремонтных работ на этом участке двумя годами ранее, _**вычислить**_\n",
    "- 'Cur_flow' - величина фактического потока по участку в этом году,\n",
    "- '1_year_flow' - величина фактического потока по участку годом ранее, _**вычислить**_\n",
    "- '2_year_flow' - величина фактического потока по участку двумя годами ранее _**вычислить**_"
   ]
  },
  {
   "cell_type": "code",
   "execution_count": 69,
   "metadata": {},
   "outputs": [],
   "source": [
    "df = pd.read_csv('./TFP.csv')"
   ]
  },
  {
   "cell_type": "code",
   "execution_count": 70,
   "metadata": {},
   "outputs": [
    {
     "data": {
      "text/html": [
       "<div>\n",
       "<style scoped>\n",
       "    .dataframe tbody tr th:only-of-type {\n",
       "        vertical-align: middle;\n",
       "    }\n",
       "\n",
       "    .dataframe tbody tr th {\n",
       "        vertical-align: top;\n",
       "    }\n",
       "\n",
       "    .dataframe thead th {\n",
       "        text-align: right;\n",
       "    }\n",
       "</style>\n",
       "<table border=\"1\" class=\"dataframe\">\n",
       "  <thead>\n",
       "    <tr style=\"text-align: right;\">\n",
       "      <th></th>\n",
       "      <th>Line_name</th>\n",
       "      <th>Line_ID</th>\n",
       "      <th>Age</th>\n",
       "      <th>Project_TFP</th>\n",
       "      <th>lines_counts</th>\n",
       "      <th>Year</th>\n",
       "      <th>TFP</th>\n",
       "      <th>Cur_flow</th>\n",
       "      <th>Days_repairs</th>\n",
       "    </tr>\n",
       "  </thead>\n",
       "  <tbody>\n",
       "    <tr>\n",
       "      <th>0</th>\n",
       "      <td>КС Ямбургская – КС Правохеттинская</td>\n",
       "      <td>1</td>\n",
       "      <td>1989.58</td>\n",
       "      <td>227.0</td>\n",
       "      <td>12</td>\n",
       "      <td>2012</td>\n",
       "      <td>173.0</td>\n",
       "      <td>NaN</td>\n",
       "      <td>NaN</td>\n",
       "    </tr>\n",
       "    <tr>\n",
       "      <th>1</th>\n",
       "      <td>КС Ямбургская – КС Правохеттинская</td>\n",
       "      <td>1</td>\n",
       "      <td>1989.58</td>\n",
       "      <td>227.0</td>\n",
       "      <td>12</td>\n",
       "      <td>2013</td>\n",
       "      <td>178.0</td>\n",
       "      <td>155.1</td>\n",
       "      <td>NaN</td>\n",
       "    </tr>\n",
       "  </tbody>\n",
       "</table>\n",
       "</div>"
      ],
      "text/plain": [
       "                            Line_name  Line_ID      Age  Project_TFP  \\\n",
       "0  КС Ямбургская – КС Правохеттинская        1  1989.58        227.0   \n",
       "1  КС Ямбургская – КС Правохеттинская        1  1989.58        227.0   \n",
       "\n",
       "   lines_counts  Year    TFP  Cur_flow  Days_repairs  \n",
       "0            12  2012  173.0       NaN           NaN  \n",
       "1            12  2013  178.0     155.1           NaN  "
      ]
     },
     "execution_count": 70,
     "metadata": {},
     "output_type": "execute_result"
    }
   ],
   "source": [
    "df.head(2)"
   ]
  },
  {
   "cell_type": "code",
   "execution_count": 71,
   "metadata": {},
   "outputs": [],
   "source": [
    "# df['Cur_age'] = df['Year'] - df['Age']"
   ]
  },
  {
   "cell_type": "code",
   "execution_count": 72,
   "metadata": {},
   "outputs": [
    {
     "data": {
      "text/html": [
       "<div>\n",
       "<style scoped>\n",
       "    .dataframe tbody tr th:only-of-type {\n",
       "        vertical-align: middle;\n",
       "    }\n",
       "\n",
       "    .dataframe tbody tr th {\n",
       "        vertical-align: top;\n",
       "    }\n",
       "\n",
       "    .dataframe thead th {\n",
       "        text-align: right;\n",
       "    }\n",
       "</style>\n",
       "<table border=\"1\" class=\"dataframe\">\n",
       "  <thead>\n",
       "    <tr style=\"text-align: right;\">\n",
       "      <th></th>\n",
       "      <th>Line_name</th>\n",
       "      <th>Line_ID</th>\n",
       "      <th>Age</th>\n",
       "      <th>Project_TFP</th>\n",
       "      <th>lines_counts</th>\n",
       "      <th>Year</th>\n",
       "      <th>TFP</th>\n",
       "      <th>Cur_flow</th>\n",
       "      <th>Days_repairs</th>\n",
       "      <th>Cur_age</th>\n",
       "    </tr>\n",
       "  </thead>\n",
       "  <tbody>\n",
       "    <tr>\n",
       "      <th>0</th>\n",
       "      <td>КС Ямбургская – КС Правохеттинская</td>\n",
       "      <td>1</td>\n",
       "      <td>1989.58</td>\n",
       "      <td>227.0</td>\n",
       "      <td>12</td>\n",
       "      <td>2012</td>\n",
       "      <td>173.0</td>\n",
       "      <td>NaN</td>\n",
       "      <td>NaN</td>\n",
       "      <td>22.42</td>\n",
       "    </tr>\n",
       "    <tr>\n",
       "      <th>1</th>\n",
       "      <td>КС Ямбургская – КС Правохеттинская</td>\n",
       "      <td>1</td>\n",
       "      <td>1989.58</td>\n",
       "      <td>227.0</td>\n",
       "      <td>12</td>\n",
       "      <td>2013</td>\n",
       "      <td>178.0</td>\n",
       "      <td>155.1</td>\n",
       "      <td>NaN</td>\n",
       "      <td>23.42</td>\n",
       "    </tr>\n",
       "    <tr>\n",
       "      <th>2</th>\n",
       "      <td>КС Ямбургская – КС Правохеттинская</td>\n",
       "      <td>1</td>\n",
       "      <td>1989.58</td>\n",
       "      <td>227.0</td>\n",
       "      <td>12</td>\n",
       "      <td>2014</td>\n",
       "      <td>171.7</td>\n",
       "      <td>141.9</td>\n",
       "      <td>253.0</td>\n",
       "      <td>24.42</td>\n",
       "    </tr>\n",
       "    <tr>\n",
       "      <th>3</th>\n",
       "      <td>КС Ямбургская – КС Правохеттинская</td>\n",
       "      <td>1</td>\n",
       "      <td>1989.58</td>\n",
       "      <td>227.0</td>\n",
       "      <td>12</td>\n",
       "      <td>2015</td>\n",
       "      <td>170.7</td>\n",
       "      <td>142.2</td>\n",
       "      <td>10.0</td>\n",
       "      <td>25.42</td>\n",
       "    </tr>\n",
       "    <tr>\n",
       "      <th>4</th>\n",
       "      <td>КС Ямбургская – КС Правохеттинская</td>\n",
       "      <td>1</td>\n",
       "      <td>1989.58</td>\n",
       "      <td>227.0</td>\n",
       "      <td>12</td>\n",
       "      <td>2016</td>\n",
       "      <td>169.9</td>\n",
       "      <td>135.2</td>\n",
       "      <td>NaN</td>\n",
       "      <td>26.42</td>\n",
       "    </tr>\n",
       "  </tbody>\n",
       "</table>\n",
       "</div>"
      ],
      "text/plain": [
       "                            Line_name  Line_ID      Age  Project_TFP  \\\n",
       "0  КС Ямбургская – КС Правохеттинская        1  1989.58        227.0   \n",
       "1  КС Ямбургская – КС Правохеттинская        1  1989.58        227.0   \n",
       "2  КС Ямбургская – КС Правохеттинская        1  1989.58        227.0   \n",
       "3  КС Ямбургская – КС Правохеттинская        1  1989.58        227.0   \n",
       "4  КС Ямбургская – КС Правохеттинская        1  1989.58        227.0   \n",
       "\n",
       "   lines_counts  Year    TFP  Cur_flow  Days_repairs  Cur_age  \n",
       "0            12  2012  173.0       NaN           NaN    22.42  \n",
       "1            12  2013  178.0     155.1           NaN    23.42  \n",
       "2            12  2014  171.7     141.9         253.0    24.42  \n",
       "3            12  2015  170.7     142.2          10.0    25.42  \n",
       "4            12  2016  169.9     135.2           NaN    26.42  "
      ]
     },
     "execution_count": 72,
     "metadata": {},
     "output_type": "execute_result"
    }
   ],
   "source": [
    "# df.head(5)"
   ]
  },
  {
   "cell_type": "code",
   "execution_count": 73,
   "metadata": {},
   "outputs": [],
   "source": [
    "def func_1_year_repairs(ds):\n",
    "    for u in df['Line_name'].unique().tolist():\n",
    "        for i in df.loc[df['Line_name'] == u].index.tolist()[1:]:\n",
    "            df.at[i, '1_year_repairs'] = df.loc[i-1, 'Days_repairs']"
   ]
  },
  {
   "cell_type": "code",
   "execution_count": 76,
   "metadata": {},
   "outputs": [],
   "source": [
    "def func_2_year_repairs(ds):\n",
    "    for u in df['Line_name'].unique().tolist():\n",
    "        for i in df.loc[df['Line_name'] == u].index.tolist()[2:]:\n",
    "            df.at[i, '2_year_repairs'] = df.loc[i-2, 'Days_repairs']"
   ]
  },
  {
   "cell_type": "code",
   "execution_count": 79,
   "metadata": {},
   "outputs": [],
   "source": [
    "def func_1_year_flow(ds):\n",
    "    for u in df['Line_name'].unique().tolist():\n",
    "        for i in df.loc[df['Line_name'] == u].index.tolist()[1:]:\n",
    "            df.at[i, '1_year_flow'] = df.loc[i-1, 'Cur_flow']"
   ]
  },
  {
   "cell_type": "code",
   "execution_count": 80,
   "metadata": {},
   "outputs": [],
   "source": [
    "def func_2_year_flow(ds):\n",
    "    for u in df['Line_name'].unique().tolist():\n",
    "        for i in df.loc[df['Line_name'] == u].index.tolist()[2:]:\n",
    "            df.at[i, '2_year_flow'] = df.loc[i-2, 'Cur_flow']"
   ]
  },
  {
   "cell_type": "code",
   "execution_count": 83,
   "metadata": {},
   "outputs": [],
   "source": [
    "# func_1_year_repairs(df)\n",
    "# func_2_year_repairs(df)\n",
    "# func_1_year_flow(df)\n",
    "# func_2_year_flow(df)"
   ]
  },
  {
   "cell_type": "code",
   "execution_count": 85,
   "metadata": {},
   "outputs": [],
   "source": [
    "# df['Repairs_per_line'] = df['Days_repairs'] / df['lines_counts']"
   ]
  },
  {
   "cell_type": "code",
   "execution_count": 87,
   "metadata": {},
   "outputs": [
    {
     "name": "stdout",
     "output_type": "stream",
     "text": [
      "<class 'pandas.core.frame.DataFrame'>\n",
      "RangeIndex: 28 entries, 0 to 27\n",
      "Data columns (total 15 columns):\n",
      "Line_name           28 non-null object\n",
      "Line_ID             28 non-null int64\n",
      "Age                 28 non-null float64\n",
      "Project_TFP         28 non-null float64\n",
      "lines_counts        28 non-null int64\n",
      "Year                28 non-null int64\n",
      "TFP                 28 non-null float64\n",
      "Cur_flow            24 non-null float64\n",
      "Days_repairs        16 non-null float64\n",
      "Cur_age             28 non-null float64\n",
      "1_year_repairs      12 non-null float64\n",
      "2_year_repairs      8 non-null float64\n",
      "1_year_flow         20 non-null float64\n",
      "2_year_flow         16 non-null float64\n",
      "Repairs_per_line    16 non-null float64\n",
      "dtypes: float64(11), int64(3), object(1)\n",
      "memory usage: 3.4+ KB\n"
     ]
    }
   ],
   "source": [
    "df.info()"
   ]
  },
  {
   "cell_type": "code",
   "execution_count": 88,
   "metadata": {},
   "outputs": [],
   "source": [
    "df.to_csv('./TFP.csv')"
   ]
  },
  {
   "cell_type": "code",
   "execution_count": null,
   "metadata": {},
   "outputs": [],
   "source": []
  }
 ],
 "metadata": {
  "kernelspec": {
   "display_name": "Python 3",
   "language": "python",
   "name": "python3"
  },
  "language_info": {
   "codemirror_mode": {
    "name": "ipython",
    "version": 3
   },
   "file_extension": ".py",
   "mimetype": "text/x-python",
   "name": "python",
   "nbconvert_exporter": "python",
   "pygments_lexer": "ipython3",
   "version": "3.7.0"
  }
 },
 "nbformat": 4,
 "nbformat_minor": 2
}
