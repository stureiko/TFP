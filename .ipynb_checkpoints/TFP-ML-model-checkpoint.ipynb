{
 "cells": [
  {
   "cell_type": "markdown",
   "metadata": {},
   "source": [
    "# Модель ТВП участков ГТС"
   ]
  },
  {
   "cell_type": "markdown",
   "metadata": {},
   "source": [
    "### Импорт библиотек"
   ]
  },
  {
   "cell_type": "code",
   "execution_count": 2,
   "metadata": {},
   "outputs": [],
   "source": [
    "import numpy as np\n",
    "import pandas as pd\n",
    "\n",
    "from matplotlib import pyplot as plt\n",
    "import seaborn as sns"
   ]
  },
  {
   "cell_type": "markdown",
   "metadata": {},
   "source": [
    " ## поля датасета"
   ]
  },
  {
   "cell_type": "markdown",
   "metadata": {},
   "source": [
    "- 'LineName' - имя участка,\n",
    "- 'LineID' - номер участка в РТП,\n",
    "- 'TFP' - технически возможная производительность млрд.м3/год, \n",
    "- 'Year' - год для которого внесены значения\n",
    "- 'Age' - возраст участка, \n",
    "- 'Project_TFP' - проектная производительность,\n",
    "- 'Days_repairs' - продолжительность ремонтных работ на участке в этом году,\n",
    "- '1_year_repairs' - продолжительность ремонтных работ на этом участке годом ранее, _**вычислить**_\n",
    "- '2_year_repairs' - продолжительность ремонтных работ на этом участке двумя годами ранее, _**вычислить**_\n",
    "- 'Cur_flow' - величина фактического потока по участку в этом году,\n",
    "- '1_year_flow' - величина фактического потока по участку годом ранее, _**вычислить**_\n",
    "- '2_year_flow' - величина фактического потока по участку двумя годами ранее _**вычислить**_"
   ]
  },
  {
   "cell_type": "code",
   "execution_count": 60,
   "metadata": {},
   "outputs": [],
   "source": [
    "df = pd.DataFrame({'LineName':['Бованенково-Ухта'], \n",
    "                   'LineID': [98], \n",
    "                   'TFP':[120], \n",
    "                   'Year': [2019], \n",
    "                   'Age':[10], \n",
    "                   'Project_TFP':[120],\n",
    "                   'Days_repairs':[137],\n",
    "                   'Cur_flow':[110]})"
   ]
  },
  {
   "cell_type": "code",
   "execution_count": 61,
   "metadata": {},
   "outputs": [
    {
     "name": "stdout",
     "output_type": "stream",
     "text": [
      "<class 'pandas.core.frame.DataFrame'>\n",
      "RangeIndex: 1 entries, 0 to 0\n",
      "Data columns (total 8 columns):\n",
      "LineName        1 non-null object\n",
      "LineID          1 non-null int64\n",
      "TFP             1 non-null int64\n",
      "Year            1 non-null int64\n",
      "Age             1 non-null int64\n",
      "Project_TFP     1 non-null int64\n",
      "Days_repairs    1 non-null int64\n",
      "Cur_flow        1 non-null int64\n",
      "dtypes: int64(7), object(1)\n",
      "memory usage: 192.0+ bytes\n"
     ]
    }
   ],
   "source": [
    "df.info()"
   ]
  },
  {
   "cell_type": "code",
   "execution_count": 43,
   "metadata": {},
   "outputs": [
    {
     "data": {
      "text/html": [
       "<div>\n",
       "<style scoped>\n",
       "    .dataframe tbody tr th:only-of-type {\n",
       "        vertical-align: middle;\n",
       "    }\n",
       "\n",
       "    .dataframe tbody tr th {\n",
       "        vertical-align: top;\n",
       "    }\n",
       "\n",
       "    .dataframe thead th {\n",
       "        text-align: right;\n",
       "    }\n",
       "</style>\n",
       "<table border=\"1\" class=\"dataframe\">\n",
       "  <thead>\n",
       "    <tr style=\"text-align: right;\">\n",
       "      <th></th>\n",
       "      <th>LineName</th>\n",
       "      <th>LineID</th>\n",
       "      <th>TFP</th>\n",
       "      <th>Year</th>\n",
       "      <th>Age</th>\n",
       "      <th>Project_TFP</th>\n",
       "      <th>Days_repairs</th>\n",
       "      <th>1_year_repairs</th>\n",
       "      <th>2_year_repairs</th>\n",
       "      <th>Cur_flow</th>\n",
       "      <th>1_year_flow</th>\n",
       "      <th>2_year_flow</th>\n",
       "    </tr>\n",
       "  </thead>\n",
       "  <tbody>\n",
       "    <tr>\n",
       "      <td>0</td>\n",
       "      <td>Бованенково-Ухта</td>\n",
       "      <td>98</td>\n",
       "      <td>120</td>\n",
       "      <td>2019</td>\n",
       "      <td>10</td>\n",
       "      <td>120</td>\n",
       "      <td>137</td>\n",
       "      <td>120</td>\n",
       "      <td>110</td>\n",
       "      <td>110</td>\n",
       "      <td>110</td>\n",
       "      <td>110</td>\n",
       "    </tr>\n",
       "  </tbody>\n",
       "</table>\n",
       "</div>"
      ],
      "text/plain": [
       "           LineName  LineID  TFP  Year  Age  Project_TFP  Days_repairs  \\\n",
       "0  Бованенково-Ухта      98  120  2019   10          120           137   \n",
       "\n",
       "   1_year_repairs  2_year_repairs  Cur_flow  1_year_flow  2_year_flow  \n",
       "0             120             110       110          110          110  "
      ]
     },
     "execution_count": 43,
     "metadata": {},
     "output_type": "execute_result"
    }
   ],
   "source": [
    "df.head()"
   ]
  },
  {
   "cell_type": "code",
   "execution_count": 62,
   "metadata": {},
   "outputs": [],
   "source": [
    "df.loc[1] = {'LineName': 'Бованенково-Ухта', \n",
    "                   'LineID': 98, \n",
    "                   'TFP': 120, \n",
    "                   'Year': 2018, \n",
    "                   'Age': 9, \n",
    "                   'Project_TFP': 120,\n",
    "                   'Days_repairs': 120,\n",
    "                   'Cur_flow': 110}"
   ]
  },
  {
   "cell_type": "code",
   "execution_count": 63,
   "metadata": {},
   "outputs": [
    {
     "data": {
      "text/html": [
       "<div>\n",
       "<style scoped>\n",
       "    .dataframe tbody tr th:only-of-type {\n",
       "        vertical-align: middle;\n",
       "    }\n",
       "\n",
       "    .dataframe tbody tr th {\n",
       "        vertical-align: top;\n",
       "    }\n",
       "\n",
       "    .dataframe thead th {\n",
       "        text-align: right;\n",
       "    }\n",
       "</style>\n",
       "<table border=\"1\" class=\"dataframe\">\n",
       "  <thead>\n",
       "    <tr style=\"text-align: right;\">\n",
       "      <th></th>\n",
       "      <th>LineName</th>\n",
       "      <th>LineID</th>\n",
       "      <th>TFP</th>\n",
       "      <th>Year</th>\n",
       "      <th>Age</th>\n",
       "      <th>Project_TFP</th>\n",
       "      <th>Days_repairs</th>\n",
       "      <th>Cur_flow</th>\n",
       "    </tr>\n",
       "  </thead>\n",
       "  <tbody>\n",
       "    <tr>\n",
       "      <td>0</td>\n",
       "      <td>Бованенково-Ухта</td>\n",
       "      <td>98</td>\n",
       "      <td>120</td>\n",
       "      <td>2019</td>\n",
       "      <td>10</td>\n",
       "      <td>120</td>\n",
       "      <td>137</td>\n",
       "      <td>110</td>\n",
       "    </tr>\n",
       "    <tr>\n",
       "      <td>1</td>\n",
       "      <td>Бованенково-Ухта</td>\n",
       "      <td>98</td>\n",
       "      <td>120</td>\n",
       "      <td>2018</td>\n",
       "      <td>9</td>\n",
       "      <td>120</td>\n",
       "      <td>120</td>\n",
       "      <td>110</td>\n",
       "    </tr>\n",
       "  </tbody>\n",
       "</table>\n",
       "</div>"
      ],
      "text/plain": [
       "           LineName  LineID  TFP  Year  Age  Project_TFP  Days_repairs  \\\n",
       "0  Бованенково-Ухта      98  120  2019   10          120           137   \n",
       "1  Бованенково-Ухта      98  120  2018    9          120           120   \n",
       "\n",
       "   Cur_flow  \n",
       "0       110  \n",
       "1       110  "
      ]
     },
     "execution_count": 63,
     "metadata": {},
     "output_type": "execute_result"
    }
   ],
   "source": [
    "df.head()"
   ]
  },
  {
   "cell_type": "code",
   "execution_count": 64,
   "metadata": {},
   "outputs": [],
   "source": [
    "df.to_csv('Lines.csv', index=False)"
   ]
  },
  {
   "cell_type": "code",
   "execution_count": null,
   "metadata": {},
   "outputs": [],
   "source": []
  }
 ],
 "metadata": {
  "kernelspec": {
   "display_name": "Python 3",
   "language": "python",
   "name": "python3"
  },
  "language_info": {
   "codemirror_mode": {
    "name": "ipython",
    "version": 3
   },
   "file_extension": ".py",
   "mimetype": "text/x-python",
   "name": "python",
   "nbconvert_exporter": "python",
   "pygments_lexer": "ipython3",
   "version": "3.7.4"
  }
 },
 "nbformat": 4,
 "nbformat_minor": 2
}
